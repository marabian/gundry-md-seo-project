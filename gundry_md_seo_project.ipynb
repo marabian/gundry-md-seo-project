{
 "cells": [
  {
   "cell_type": "markdown",
   "id": "31d95238-0f2a-46e2-a3c4-b5ab66808dc0",
   "metadata": {},
   "source": [
    "# Gundry MD SEO Analytcs Project\n",
    "\n",
    "* *Author*: Mher Arabian<br>\n",
    "* *Date*: 2024-02-12"
   ]
  },
  {
   "cell_type": "markdown",
   "id": "1749de57-817a-4e9a-a78c-ebb1fd2e8f5f",
   "metadata": {},
   "source": [
    "## SEO and Digital Marketing Platforms\n",
    "***"
   ]
  },
  {
   "cell_type": "markdown",
   "id": "d0c7eb0c-a18f-4478-a93d-e96f6878d21c",
   "metadata": {},
   "source": [
    "### What are they?\n",
    "\n",
    "Tools like Ahrefs, SEMrush, and DataForSEO, are comprehensive SEO (Search Engine Optimization) and digital marketing platforms. They provide a range of tools and analytics designed to help businesses improve their online visibility, track their search engine ranking performance, research competitors, and optimize their marketing strategies. Here's an overview of the core functionalities offered by these types of platforms:\n",
    "\n",
    "1. **Keyword Research**:\n",
    "    \n",
    "    These tools offer in-depth keyword research capabilities, allowing users to find relevant keywords for their content and SEO strategies. This includes data on keyword search volume, keyword difficulty, related keywords, and the intent behind searches. Understanding which keywords to target can help in creating content that drives more organic traffic.\n",
    "\n",
    "\n",
    "2. **Competitor Analysis**\n",
    "\n",
    "    They enable businesses to analyze their competitors' online strategies, from the keywords they rank for to their backlink profiles and paid advertising strategies. This insight can help businesses identify opportunities and gaps in their own strategies and make informed decisions to gain a competitive edge.\n",
    "\n",
    "3. **SEO Audits**\n",
    "\n",
    "    SEO audit features allow users to evaluate their websites for common SEO issues that might be affecting their search engine rankings. This can include checks for broken links, improper use of tags, page speed issues, mobile usability, and more. Audits provide actionable insights to improve website health and performance.\n",
    "\n",
    "\n",
    "4. **Rank Tracking**\n",
    "\n",
    "    Rank tracking features enable businesses to monitor where their pages rank on search engine results pages (SERPs) for targeted keywords over time. This is crucial for understanding the effectiveness of SEO efforts and adjusting strategies as needed.\n",
    "\n",
    "5. **Backlink Analysis**\n",
    "\n",
    "    Backlink tools analyze the quantity and quality of external sites linking back to a user's website. Since backlinks are a significant factor in search engine ranking algorithms, understanding and improving your backlink profile is essential for SEO.\n",
    "\n",
    "6. **Content Marketing Tools**\n",
    "\n",
    "    Some platforms offer tools to help with content creation and optimization, suggesting ways to improve content for better engagement and rankings. This can include content templates, tone analysis, and recommendations for optimizing for specific keywords.\n",
    "\n",
    "\n",
    "7. **Social Media and Paid Advertising Analysis**\n",
    "\n",
    "    Beyond organic search, these tools often extend into analyzing social media presence and performance, as well as paid advertising campaigns across platforms like Google Ads and social media ads. They provide insights into ad performance, audience targeting, and ROI."
   ]
  },
  {
   "cell_type": "markdown",
   "id": "661c5aa9-1f9c-478a-b970-f14127f194ab",
   "metadata": {},
   "source": [
    "### Popular Tools\n",
    "\n",
    "1. **SEMrush**: SEMrush is a widely used tool for SEO and digital marketing. It offers an API (for Business plan subscribers) that allows you to access their extensive dataset, including keyword research, site audits, competitor analysis, and backlink tracking.\n",
    "\n",
    "2. **Ahrefs**: Ahrefs is another popular SEO tool that provides an API for accessing their data, including site audits, backlink analysis, and keyword research. The API is available to subscribers, and pricing depends on the volume of data you need.\n",
    "\n",
    "3. **Moz**: Moz offers an API for accessing their SEO data, including link metrics, keyword research, and domain information. They offer both free and paid access, with the paid API providing more data and higher limits.\n",
    "\n",
    "4. **Majestic**: Majestic is known for its backlink analysis tools, and their API gives access to their comprehensive backlink data. It's a good choice if your focus is on link building and backlink analysis.\n",
    "\n",
    "5. **Serpstat**: Serpstat provides an API for accessing their SEO platform, including keyword research, competitor analysis, and backlink analysis. They offer various subscription plans based on usage levels.\n",
    "\n",
    "6. **SpyFu**: SpyFu offers insights into competitors' keyword strategies and PPC campaigns. Their API allows you to access this data programmatically, which can be useful for integrating competitive intelligence into your tools.\n",
    "\n",
    "7. **Google Search Console**: While not a direct alternative in the same vein as the others, Google Search Console's API provides valuable data directly from Google about your site's performance in search results, including search traffic, impressions, clicks, and position. It's free to use for verified site owners.\n",
    "\n",
    "8. **DataForSEO**: Good alternative that offers a wide range of SEO data through its API, catering to developers and companies who need to integrate SEO data into their applications or services. DataForSEO is particularly known for its comprehensive and flexible APIs tailored to various SEO tasks. Here's a brief overview of what DataForSEO offers:"
   ]
  },
  {
   "cell_type": "markdown",
   "id": "91a12be6-4b29-47a3-a65e-975a871e7d5f",
   "metadata": {},
   "source": [
    "### Why DataForSEO?\n",
    "\n",
    "\n",
    "**Features and Services:**\n",
    "\n",
    "* **Keywords Data API**: Provides extensive data on keywords, including search volume, CPC, competition, and SERP features. It's useful for keyword research and SEO strategy planning.\n",
    "\n",
    "* **SERP API**: Allows you to retrieve search engine results pages (SERP) data for a specific query, which is crucial for analyzing search trends, competitor rankings, and understanding Google's SERP layouts.\n",
    "\n",
    "* **OnPage API**: Offers detailed analysis of webpage content and structure for SEO optimization, including checks for meta tags, headings, and other on-page elements.\n",
    "\n",
    "* **Backlink API**: Provides data on backlinks for any domain, which is vital for backlink analysis and understanding a website's link profile.\n",
    "\n",
    "* **Traffic Analytics API**: Gives insights into web traffic, including sources, volumes, and audience behavior. This can help in understanding the market and competitors.\n",
    "\n",
    "* **Rank Tracker API**: Enables you to track the rankings of specific keywords over time across different search engines and locations.\n",
    "\n",
    "* **New Backlink API**: Backlinks API is DataForSEO’s newest service that provides up-to-date backlink analysis data on billions of domains.\n",
    "\n",
    "**Advantages:**\n",
    "\n",
    "* **Comprehensive Data**: DataForSEO offers a wide array of SEO data points, making it a versatile tool for different SEO needs.\n",
    "\n",
    "* **Flexible Pricing**: They provide a pay-as-you-go pricing model, which can be more cost-effective for users with varying usage requirements. This model allows for greater flexibility and control over costs.\n",
    "\n",
    "* **High Scalability**: The API is designed to handle requests at scale, making it suitable for businesses of all sizes, from startups to large enterprises.\n",
    "\n",
    "* **Regular Updates**: DataForSEO frequently updates its APIs to ensure accuracy and relevance of data, adapting to the ever-changing SEO landscape."
   ]
  },
  {
   "cell_type": "markdown",
   "id": "0006095c-99be-4c4c-8c3b-cdb83f34dded",
   "metadata": {},
   "source": [
    "## Definitions\n",
    "***"
   ]
  },
  {
   "cell_type": "markdown",
   "id": "eceef9d6-3823-4906-99e5-f506c15c42c4",
   "metadata": {},
   "source": [
    "### Campaign\n",
    "\n",
    "In the context of SEO and digital marketing, a \"campaign\" refers to a coordinated series of efforts aimed at improving the visibility and ranking of a website or specific web pages in search engine results. A campaign typically focuses on a set of targeted keywords and employs various SEO strategies, such as content creation, on-page optimization, and backlink building, to improve rankings for those keywords.\n"
   ]
  },
  {
   "cell_type": "markdown",
   "id": "84e8208e-0894-4e09-b3ed-009664393b01",
   "metadata": {},
   "source": [
    "### SERP\n",
    "\n",
    "\n",
    "\n",
    "SERP stands for Search Engine Results Page. This is the page that users see after they search for a term on a search engine like Google. A SERP contains a list of results that the search engine has determined are relevant to the user's query. These results can include website pages, local business listings, images, videos, featured snippets, and more. In SEO analysis, attention is often focused on the ranking order of these results, as higher-ranked results are more likely to be clicked on by users.\n",
    "\n",
    "A \"positive SERP\" refers to a result that is favorable for the website in question—meaning that the website or one of its pages appears within the top 10 results for a given keyword. Being in the top 10 is considered highly beneficial because these results get the majority of clicks from users.\n"
   ]
  },
  {
   "cell_type": "markdown",
   "id": "eb77f4a4-5c4c-4833-8192-1445cebb616a",
   "metadata": {},
   "source": [
    "### Search Volume\n",
    "\n",
    "Search volume is a metric that indicates the number of times a specific keyword or phrase is searched for in a search engine over a given period of time. Typically, search volume is represented as an average monthly search count. This metric is crucial in Search Engine Optimization (SEO) and Search Engine Marketing (SEM) as it helps marketers understand the popularity and demand for certain keywords.\n",
    "\n"
   ]
  },
  {
   "cell_type": "markdown",
   "id": "de813c6e-7b11-4387-b31e-fdf373da87d7",
   "metadata": {},
   "source": [
    "### Keywords\n",
    "\n",
    "For example, the keywords related to Dr. Gundry and his products, such as \"bio complete 3,\" represent the specific terms and phrases that people are using in search engines when they're looking for information on his dietary supplements, health advice, or other related products. These keywords reflect the areas of interest and concern of potential customers or followers of Dr. Gundry's health protocols. For instance, someone searching for \"bio complete 3\" is likely looking for information on this particular supplement, its benefits, reviews, or where to purchase it."
   ]
  },
  {
   "cell_type": "markdown",
   "id": "272daa63-58c1-4480-8250-be06de2f588e",
   "metadata": {},
   "source": [
    "### Competition\n",
    "\n",
    "A measure of how many advertisers are bidding on this keyword for their ads. \"High\" competition means many advertisers are interested in this keyword, which could make it harder or more expensive to rank for or bid on. \"Low\" means fewer advertisers, and \"Medium\" is in-between."
   ]
  },
  {
   "cell_type": "markdown",
   "id": "2ab6516c-a529-478e-bd6d-4757e8780689",
   "metadata": {},
   "source": [
    "### Backlink\n",
    "\n",
    "A backlink in the context of SEO (Search Engine Optimization) is a link from one website to another. It's considered an important factor for improving a website's search engine rankings, as search engines view backlinks as a form of endorsement or vote of confidence from one site to another. The quality, relevance, and number of backlinks can significantly influence a website's visibility and ranking on search engine results pages (SERPs).\n",
    "\n",
    "\n",
    "\n"
   ]
  },
  {
   "cell_type": "markdown",
   "id": "a60130c4-e2db-4c59-95b8-6b26c09b6284",
   "metadata": {},
   "source": [
    "### Microsites\n",
    "\n",
    "For example:\n",
    "```python\n",
    "microsites = ['https://gundrymd.com/health-goal/weight/', 'https://gundrymd.com/health-goal/energy/']\n",
    "```\n",
    "\n",
    "Microsites allow Gundry MD to:\n",
    "\n",
    "* **Target Specific Keywords**: Each microsite can be optimized for specific keywords related to its theme, such as \"weight management supplements\" for the weight goal page or \"lectin-free food\" for the lectin-free food shop. This helps in ranking for these targeted keywords.\n",
    "* **Serve Niche Audiences**: Microsites cater to specific interests or needs of different segments of the audience, providing tailored content that directly addresses their concerns or goals.\n",
    "* **Enhance User Experience**: By creating separate microsites for different health goals and product categories, users can more easily find the information or products they are looking for, improving navigation and engagement.\n",
    "* **Boost SEO**: Microsites can generate additional entry points for organic search traffic, linking back to the main site and improving the overall domain's authority and search engine ranking."
   ]
  },
  {
   "cell_type": "markdown",
   "id": "0b220a9e-e971-4d68-a79f-1b8f5de3bc40",
   "metadata": {},
   "source": [
    "### Affiliate Marketing\n",
    "\n",
    "Affiliate marketing is a marketing arrangement by which an online retailer pays commission to an external website for traffic or sales generated from its referrals. This can often involve creating content, such as articles, blog posts, videos, or other forms of media that include affiliate links. When someone clicks on these links and makes a purchase, the content creator earns a commission from the sale."
   ]
  },
  {
   "cell_type": "markdown",
   "id": "429c7945-d1f2-4575-9159-ff4aa34afa28",
   "metadata": {},
   "source": [
    "## Imports\n",
    "***"
   ]
  },
  {
   "cell_type": "code",
   "execution_count": 165,
   "id": "acbc8b95-e7e0-402d-9347-1c1849c04d29",
   "metadata": {},
   "outputs": [],
   "source": [
    "import json\n",
    "import base64\n",
    "import os\n",
    "from pprint import pprint\n",
    "from datetime import date\n",
    "from dotenv import load_dotenv\n",
    "import requests\n",
    "import pandas as pd\n",
    "import numpy as np \n",
    "from openai import OpenAI # openai==1.12.0\n",
    "from client import RestClient # python client for Ope\n",
    "\n"
   ]
  },
  {
   "cell_type": "code",
   "execution_count": 166,
   "id": "79bc41c1-d585-469f-b84a-db87595ccbd0",
   "metadata": {},
   "outputs": [
    {
     "data": {
      "text/plain": [
       "'/Users/marabian/Projects/gundry-md-seo-project/.venv/bin/python3'"
      ]
     },
     "execution_count": 166,
     "metadata": {},
     "output_type": "execute_result"
    }
   ],
   "source": [
    "# make sure using correct python virtual environment\n",
    "import sys\n",
    "sys.executable"
   ]
  },
  {
   "cell_type": "markdown",
   "id": "81b0237d-313e-4ca4-ad87-25aaade0a160",
   "metadata": {},
   "source": [
    "## Useful Links\n",
    "\n",
    "* [DataForSEO API Explorer](https://app.dataforseo.com/api-explorer)\n",
    "\n",
    "* [DataForSEO V3 API Official Documentation](https://docs.dataforseo.com/v3/?bash)"
   ]
  },
  {
   "cell_type": "markdown",
   "id": "e8f7df91-5db3-4343-9aa2-c5343b4f8d09",
   "metadata": {},
   "source": [
    "## DataForSEO API Setup\n",
    "***"
   ]
  },
  {
   "cell_type": "markdown",
   "id": "45e93ecd-b811-4d4b-956b-1e3dedd6625f",
   "metadata": {},
   "source": [
    "To follow good security practices, place your *DataForSEO* credentials in a `.env` file, make sure it's in the same directory as this file.\n",
    "\n",
    "Example `.env` file:\n",
    "\n",
    "```\n",
    "DATAFORSEO_USERNAME=<Your Username>\n",
    "DATAFORSEO_PASSWORD=<Your Password>\n",
    "```\n",
    "\n",
    "Let's make sure the *DataForSEO* API is working. Should get status code 20000."
   ]
  },
  {
   "cell_type": "code",
   "execution_count": 217,
   "id": "f144d8c2-9115-4cbe-a28e-18de176952f2",
   "metadata": {},
   "outputs": [
    {
     "name": "stdout",
     "output_type": "stream",
     "text": [
      "Status Code: 20000\n",
      "Status Message: Ok.\n",
      "Cost: 0 USD\n",
      "Tasks Count: 1\n",
      "Sample Endpoint: v3/serp/baidu/languages\n"
     ]
    }
   ],
   "source": [
    "# Load environment variables from .env file\n",
    "load_dotenv()\n",
    "\n",
    "# Fetching credentials from environment variables\n",
    "dataforseo_username = os.environ.get('DATAFORSEO_USERNAME')\n",
    "dataforseo_password = os.environ.get('DATAFORSEO_PASSWORD')\n",
    "\n",
    "# Ensuring credentials were successfully fetched\n",
    "if not dataforseo_username or not dataforseo_password:\n",
    "    raise ValueError(\"DataForSEO credentials are not set in environment variables.\")\n",
    "\n",
    "client = RestClient(dataforseo_username, dataforseo_password)\n",
    "\n",
    "# Making a connection request to check available SERP API endpoints\n",
    "response = client.get(\"/v3/serp/endpoints\")\n",
    "\n",
    "# Selectively printing key details from the response\n",
    "print(f\"Status Code: {response.get('status_code')}\")\n",
    "print(f\"Status Message: {response.get('status_message')}\")\n",
    "print(f\"Cost: {response.get('cost')} USD\")\n",
    "tasks = response.get('tasks', [])\n",
    "if tasks:\n",
    "    print(f\"Tasks Count: {len(tasks)}\")\n",
    "    first_task_result = tasks[0].get('result', [])\n",
    "    if first_task_result:\n",
    "        print(\"Sample Endpoint:\", first_task_result[0][0])  # Printing the first endpoint as a sample\n",
    "else:\n",
    "    print(\"No tasks found in the response.\")"
   ]
  },
  {
   "cell_type": "markdown",
   "id": "4091a1e7-7ccc-40fc-a7b1-f9274b8c5bb5",
   "metadata": {},
   "source": [
    "## GPT API Setup\n",
    "***"
   ]
  },
  {
   "cell_type": "markdown",
   "id": "ce0df213-fcb4-45c4-bed9-196b7e9d0b0d",
   "metadata": {},
   "source": [
    "Now let's make sure our *OpenAI* credentials are working. If you don't have credentials, follow these steps to obtain them:\n",
    "\n",
    "1. Go to https://platform.openai.com/signup and create an account.\n",
    "2. Go to https://platform.openai.com/\n",
    "3. On the left sidebar, click on API keys and create a new secret key.\n",
    "\n",
    "\n",
    "There is a free tier, but you may need to add your payment information to your OpenAI account to use their API. You can do this by going to *Settings > Billing* on the left sidebar.\n",
    "\n",
    "Once you have your API key, make sure to place it in your `.env` file like this:\n",
    "\n",
    "```\n",
    "OPENAI_API_KEY=<Your Key>\n",
    "```"
   ]
  },
  {
   "cell_type": "code",
   "execution_count": 226,
   "id": "7f478987-84ec-4238-b45d-acfc53b36521",
   "metadata": {},
   "outputs": [],
   "source": [
    "# This loads the environment variables from .env\n",
    "load_dotenv() \n",
    "\n",
    "# Now, you can access OPENAI_API_KEY\n",
    "openai_api_key = os.getenv('OPENAI_API_KEY')\n",
    "\n",
    "openai_client = OpenAI(\n",
    "  api_key=openai_api_key\n",
    ")\n"
   ]
  },
  {
   "cell_type": "markdown",
   "id": "ccd6e0b1-30a4-47ef-8510-b8668259cab2",
   "metadata": {},
   "source": [
    "### Helper Functions\n",
    "\n",
    "Let's define some helper functions which will allow us to interact with the GPT API.\n"
   ]
  },
  {
   "cell_type": "code",
   "execution_count": 227,
   "id": "1a028d23-d462-4990-a05f-e0a0e1101cb8",
   "metadata": {},
   "outputs": [],
   "source": [
    "# Sends conversation history to the OpenAI API and gets a model-generated response.\n",
    "def get_completion_from_messages(messages, model=\"gpt-3.5-turbo\", temperature=1):\n",
    "    response = openai_client.chat.completions.create(\n",
    "        model=model,\n",
    "        messages=messages,\n",
    "        temperature=temperature, # this is the degree of randomness of the model's output\n",
    "    )\n",
    "\n",
    "    #print(str(response.choices[0].message))\n",
    "    return response.choices[0].message.content\n",
    "\n",
    "\n",
    "# Convert a JSON string that represents a list of dictionaries into an actual Python list of dictionaries\n",
    "def read_string_to_list(input_string):\n",
    "    if input_string is None:\n",
    "        return None\n",
    "\n",
    "    try:\n",
    "        input_string = input_string.replace(\"'\", \"\\\"\")  # Replace single quotes with double quotes for valid JSON\n",
    "        data = json.loads(input_string)\n",
    "        return data\n",
    "    except json.JSONDecodeError:\n",
    "        print(\"Error: Invalid JSON string\")\n",
    "        return None   "
   ]
  },
  {
   "cell_type": "markdown",
   "id": "aa196afe-4eec-4552-ac40-876859f55277",
   "metadata": {},
   "source": [
    "## Campaign Keyword Analysis\n",
    "***"
   ]
  },
  {
   "cell_type": "markdown",
   "id": "cf9526fa-7030-475b-991f-fd9456f840d7",
   "metadata": {},
   "source": [
    "### Get Top 100 Keywords\n",
    "\n",
    "Let's use *DataForSeo's* **keywords_for_site** API get the top 100 keywords by **search volume** (Google) related to *Dr. Gundry's* [website](https://gundrymd.com/).\n",
    "\n",
    "Then we will load these into a python dictionary, where the key is the keyword itself, and the value is the search volume."
   ]
  },
  {
   "cell_type": "code",
   "execution_count": 180,
   "id": "5f66511d-372a-408b-b6ec-24320a283c19",
   "metadata": {},
   "outputs": [],
   "source": [
    "url = \"https://api.dataforseo.com/v3/keywords_data/google_ads/keywords_for_site/live\"\n",
    "# Assuming 'url' is already defined as the endpoint URL for the \"Keywords for Site\" task\n",
    "# Prepare the request payload targeting \"https://gundrymd.com/\"\n",
    "payload = json.dumps([\n",
    "    {\n",
    "        \"location_code\": 2840,  # Location code for the United States\n",
    "        \"language_code\": \"en\",  # English language\n",
    "        \"target\": \"https://gundrymd.com/\"\n",
    "    }\n",
    "])\n",
    "\n",
    "# Initialize an empty dictionary to store the keywords and their search volumes\n",
    "keywords_dict = {}\n",
    "\n",
    "# Make the POST request to DataForSEO using the prepared payload\n",
    "response = requests.post(url, auth=(dataforseo_username, dataforseo_password), data=payload, headers={\"Content-Type\": \"application/json\"})\n",
    "data = response.json()\n",
    "\n",
    "\n",
    "# Check if the request was successful (status_code == 20000)\n",
    "if data['status_code'] == 20000:\n",
    "    # Loop through each task in the response\n",
    "    for task in data['tasks']:\n",
    "        # Then loop through each result in the task\n",
    "        for result in task.get('result', []):\n",
    "            # Assuming you want to collect all keywords, not just those with Search Volume > 5000\n",
    "            # This updates the dictionary with the keyword as the key and the search volume as the value\n",
    "            keywords_dict[result['keyword']] = result['search_volume']\n",
    "            \n",
    "            # If you need to limit to the top 100 keywords based on search volume, consider sorting and slicing the dictionary outside this loop\n",
    "\n",
    "# After collecting all keywords, sort the dictionary by search volume (descending) and get the top 100\n",
    "# Note: Dictionaries are ordered (by insertion order) in Python 3.7+\n",
    "sorted_keywords = dict(sorted(keywords_dict.items(), key=lambda item: item[1], reverse=True)[:100])\n",
    "\n",
    "# Now 'sorted_keywords' contains the top 100 keywords and their search volumes\n",
    "# print(sorted_keywords)\n"
   ]
  },
  {
   "cell_type": "markdown",
   "id": "012c8af9-9720-46c3-b388-6075994562c1",
   "metadata": {},
   "source": [
    "Let's print the **top 10 keywords associated with Gundy MD**."
   ]
  },
  {
   "cell_type": "code",
   "execution_count": 182,
   "id": "77303696-16c7-4a80-bb1d-e0c7daa73707",
   "metadata": {},
   "outputs": [
    {
     "name": "stdout",
     "output_type": "stream",
     "text": [
      "vitamins shop: 823000\n",
      "pro biotics: 301000\n",
      "thevitamin shoppe: 201000\n",
      "vitamin c: 165000\n",
      "vitamin shoppe near me: 90500\n",
      "best women's probiotic: 60500\n",
      "best womens probiotics: 60500\n",
      "top rated women's probiotic: 60500\n",
      "gut health: 49500\n",
      "doctor gundry: 40500\n",
      "probiotic foods: 40500\n",
      "best probiotics: 40500\n",
      "best prebiotics: 40500\n",
      "supplement store near me: 40500\n",
      "probiotic diet: 40500\n",
      "best tablets for weight loss: 40500\n",
      "gundry doctor: 40500\n",
      "foods with probiotics in them: 40500\n",
      "best weight loss capsules: 40500\n",
      "steven gundry dr: 40500\n"
     ]
    }
   ],
   "source": [
    "# Print the first 10 items\n",
    "count = 0\n",
    "for key, value in sorted_keywords.items():\n",
    "    print(f\"{key}: {value}\")\n",
    "    count += 1\n",
    "    if count == 20:\n",
    "        break"
   ]
  },
  {
   "cell_type": "markdown",
   "id": "e95f314a-fb14-4de5-b0b6-76edb8da0149",
   "metadata": {},
   "source": [
    "Now let's print just the keywords and store it in a Python list."
   ]
  },
  {
   "cell_type": "code",
   "execution_count": 183,
   "id": "787e24be-217c-4717-9958-456b0184dee2",
   "metadata": {},
   "outputs": [],
   "source": [
    "# Sort the dictionary based on values in ascending order and store only the keys\n",
    "ordered_keywords = [key for key, _ in sorted(sorted_keywords.items(), key=lambda item: item[1])]"
   ]
  },
  {
   "cell_type": "code",
   "execution_count": 184,
   "id": "f1a0c2c9-56c2-4bc9-8960-1128ca63cff0",
   "metadata": {},
   "outputs": [
    {
     "name": "stdout",
     "output_type": "stream",
     "text": [
      "Total number of keywords: 100\n"
     ]
    }
   ],
   "source": [
    "print(f\"Total number of keywords: {len(ordered_keywords)}\")"
   ]
  },
  {
   "cell_type": "markdown",
   "id": "10a70b00-057d-4253-a75e-760e0019f939",
   "metadata": {},
   "source": [
    "### Generative AI Use-case 1: Group Keywords\n",
    "\n",
    "Grouping keywords is a common and effective practice in SEO. It helps in organizing your SEO strategy around thematic clusters or topics, improving content relevance, and enhancing user experience on your website. This approach aligns with search engines' focus on topic relevance and intent matching, potentially boosting your site's rankings for related searches. Grouping keywords can also streamline content creation and optimization efforts, making it easier to target multiple related keywords within a single piece of content or across a series of interconnected pages\n",
    "\n",
    "Let's use *OpenAI's* **gpt-3.5-turbo** to group these 100 keywords. We will ask the model to identify natural clusters or groupings based on thematic similarity, relevance, or any other criteria it deems appropriate."
   ]
  },
  {
   "cell_type": "code",
   "execution_count": 185,
   "id": "165928f6-e7d3-45a2-8577-754d951fd4fd",
   "metadata": {},
   "outputs": [],
   "source": [
    "# Convert the list of keywords to a string format for the prompt\n",
    "keywords_string = ', '.join(ordered_keywords)\n",
    "\n",
    "# Craft the prompt for the model to group keywords\n",
    "prompt = {\n",
    "    \"role\": \"user\",\n",
    "    \"content\": (\n",
    "        f\"Please analyze the following list of keywords and group them into thematic clusters: \"\n",
    "        f\"{keywords_string}. \"\n",
    "        f\"Provide a title for each group and list the keywords belonging to it.\"\n",
    "        f\"The output format should be a JSON string that represents a list of dictionaries.\"\n",
    "        f\"Make sure to only return the JSON string in the output, nothing else.\"\n",
    "    )\n",
    "}\n",
    "\n",
    "# Use the helper function to send the prompt to the model and get the response\n",
    "# temp 0 makes it so that the randomness is reduced, more deterministic\n",
    "model_response = get_completion_from_messages([prompt], temperature=0)"
   ]
  },
  {
   "cell_type": "markdown",
   "id": "ca2140c2-50c1-4c82-84f1-99295ab29c66",
   "metadata": {},
   "source": [
    "Let's print the **group names**, and the number of groups found by the model."
   ]
  },
  {
   "cell_type": "code",
   "execution_count": 186,
   "id": "85682323-5722-4c67-9b2b-759f39daa09b",
   "metadata": {},
   "outputs": [],
   "source": [
    "# Convert JSON string to Python dictionary\n",
    "keyword_groups_dict = json.loads(model_response)"
   ]
  },
  {
   "cell_type": "code",
   "execution_count": 188,
   "id": "fcc811d6-9542-42e2-a5d0-1424cede5895",
   "metadata": {},
   "outputs": [
    {
     "name": "stdout",
     "output_type": "stream",
     "text": [
      "Group 1: Dr. Gundry Products\n",
      "Group 2: Weight Loss Supplements\n",
      "Group 3: Probiotics and Gut Health\n",
      "Group 4: Vitamin and Supplement Store\n",
      "Group 5: Other Health-related Keywords\n"
     ]
    }
   ],
   "source": [
    "# Print all the group names\n",
    "for key in keyword_groups_dict.keys():\n",
    "    print(key)"
   ]
  },
  {
   "cell_type": "markdown",
   "id": "c863bfdf-f6d3-441c-80e2-f75d9f84addb",
   "metadata": {},
   "source": [
    "Let's examine some of these groups."
   ]
  },
  {
   "cell_type": "code",
   "execution_count": 189,
   "id": "c94532f6-cd41-40ac-8cdc-a40453bdb716",
   "metadata": {},
   "outputs": [],
   "source": [
    "# Remove \"Group Number:\" part from each key\n",
    "keyword_groups_dict = {key.split(': ', 1)[1]: value for key, value in keyword_groups_dict.items()}"
   ]
  },
  {
   "cell_type": "markdown",
   "id": "0c1f6fee-6683-4c7f-a734-8ff18478335c",
   "metadata": {},
   "source": [
    "Let's look at some of these groups."
   ]
  },
  {
   "cell_type": "code",
   "execution_count": 190,
   "id": "4869518a-1897-47d1-8cd1-8f8eedc51bef",
   "metadata": {},
   "outputs": [
    {
     "data": {
      "text/plain": [
       "['dr gundry products',\n",
       " 'dr steven gundry products',\n",
       " 'dr gundry diet',\n",
       " 'steven gundry md products',\n",
       " 'steve gundry com',\n",
       " 'total restore',\n",
       " 'the plant paradox',\n",
       " \"dr gundry's\",\n",
       " 'dr gundry md',\n",
       " 'doctor gundry md',\n",
       " 'gundry md california',\n",
       " 'gundrymd',\n",
       " 'dr gundry md',\n",
       " 'gundry doctor',\n",
       " 'steven gundry dr',\n",
       " 'stevengundrymd',\n",
       " 'dr steven gundry md',\n",
       " 'dr steven r gundry',\n",
       " 'dr steven r gundry md']"
      ]
     },
     "execution_count": 190,
     "metadata": {},
     "output_type": "execute_result"
    }
   ],
   "source": [
    "# Group: Dr. Gundry Products\n",
    "keyword_groups_dict['Dr. Gundry Products']"
   ]
  },
  {
   "cell_type": "code",
   "execution_count": 191,
   "id": "a5dbaf02-b319-4e70-9b79-8437511dee75",
   "metadata": {},
   "outputs": [
    {
     "data": {
      "text/plain": [
       "['supplements for weight loss',\n",
       " 'fat burning supplements',\n",
       " 'best over the counter weight loss supplements',\n",
       " 'vitamins that aid in weight loss',\n",
       " 'fat reduction supplements',\n",
       " 'protein food supplements',\n",
       " 'best supplements for weight loss',\n",
       " 'best weight loss supplements for women',\n",
       " 'best weight loss products for women',\n",
       " 'best foods for gut health',\n",
       " 'best dietary supplements for weight loss',\n",
       " 'good supplements for weight loss',\n",
       " 'diet supplements for weight loss',\n",
       " 'dietary pills',\n",
       " 'weight control supplements',\n",
       " 'loss weight supplement',\n",
       " 'best tablets for weight loss',\n",
       " 'best weight loss capsules']"
      ]
     },
     "execution_count": 191,
     "metadata": {},
     "output_type": "execute_result"
    }
   ],
   "source": [
    "keyword_groups_dict['Weight Loss Supplements']"
   ]
  },
  {
   "cell_type": "markdown",
   "id": "6ee3581a-7e4d-4ff8-b22c-adc28f3f82d2",
   "metadata": {},
   "source": [
    "## SERP Analysis\n",
    "***"
   ]
  },
  {
   "cell_type": "markdown",
   "id": "da920c5a-ce62-429a-9c4b-db4709b0159f",
   "metadata": {},
   "source": [
    "### Get SERPs for Keywords\n",
    "\n",
    "Let's focus on the **Group 1: Dr. Gundry Products**, which was previously identified by GPT (Generative AI Use-case 1). \n",
    "\n",
    "These keywords are directly related to the brand and its product offerings, making them critical for maintaining a positive online presence. Users searching these terms are likely looking for information about Dr. Gundry's products, potentially with the intent to purchase. Ensuring that the search engine results pages (SERPs) for these keywords reflect **positive sentiment** and **relevant information** is essential for brand reputation management. \n",
    "\n",
    "Let's **retrieve the SERP data for a single keyword** (also supports list of keywords) using **DataForSEO's SERP API**."
   ]
  },
  {
   "cell_type": "code",
   "execution_count": 220,
   "id": "196eec43-e9dd-4156-9fc6-eaf40f369c21",
   "metadata": {},
   "outputs": [
    {
     "name": "stdout",
     "output_type": "stream",
     "text": [
      "Keywords: ['dr gundry products']\n",
      "20000\n"
     ]
    }
   ],
   "source": [
    "# Define the endpoint URL\n",
    "url = \"https://api.dataforseo.com/v3/serp/google/organic/live/regular\"\n",
    "\n",
    "\n",
    "# Testing with just 1 keyword so the code runs fast, but can pass entire list of keywords\n",
    "keywords = [keyword_groups_dict['Dr. Gundry Products'][0]]\n",
    "\n",
    "print(f\"Keywords: {keywords}\")\n",
    "\n",
    "# Initialize a list to store SERP data\n",
    "serp_data = []\n",
    "\n",
    "# Iterate over keywords to fetch SERP data\n",
    "for keyword in keywords:\n",
    "    payload = json.dumps([{\n",
    "        \"language_code\": \"en\",\n",
    "        \"location_code\": 2840,  # Location code for the United States\n",
    "        \"keyword\": keyword\n",
    "    }])\n",
    "    headers = {\"Authorization\": f\"Basic {dataforseo_username}:{dataforseo_password}\", \"Content-Type\": \"application/json\"}\n",
    "    response = requests.post(url, auth=(dataforseo_username, dataforseo_password), headers=headers, data=payload)\n",
    "    result = response.json()\n",
    "\n",
    "    # Process the response\n",
    "    print(result['status_code'])\n",
    "    if result['status_code'] == 20000:\n",
    "        task_data = result['tasks'][0]['result'][0]['items']\n",
    "        for item in task_data:\n",
    "            if item['type'] in ['organic', 'paid']:\n",
    "                serp_data.append({\n",
    "                    \"keyword\": keyword,\n",
    "                    \"position\": item.get('rank_absolute', None),\n",
    "                    \"type\": item['type'],\n",
    "                    \"url\": item.get('url', None),\n",
    "                    \"title\": item.get('title', None)\n",
    "                })\n",
    "\n",
    "\n"
   ]
  },
  {
   "cell_type": "markdown",
   "id": "5e6cdb9f-e654-49d1-9040-6487b0d35a02",
   "metadata": {},
   "source": [
    "Let's take a look at some of the rows in our SERP data."
   ]
  },
  {
   "cell_type": "code",
   "execution_count": 221,
   "id": "57342b53-cd29-40ce-b533-0778f414b0eb",
   "metadata": {},
   "outputs": [
    {
     "name": "stdout",
     "output_type": "stream",
     "text": [
      "(99, 5)\n"
     ]
    },
    {
     "data": {
      "text/html": [
       "<div>\n",
       "<style scoped>\n",
       "    .dataframe tbody tr th:only-of-type {\n",
       "        vertical-align: middle;\n",
       "    }\n",
       "\n",
       "    .dataframe tbody tr th {\n",
       "        vertical-align: top;\n",
       "    }\n",
       "\n",
       "    .dataframe thead th {\n",
       "        text-align: right;\n",
       "    }\n",
       "</style>\n",
       "<table border=\"1\" class=\"dataframe\">\n",
       "  <thead>\n",
       "    <tr style=\"text-align: right;\">\n",
       "      <th></th>\n",
       "      <th>keyword</th>\n",
       "      <th>position</th>\n",
       "      <th>type</th>\n",
       "      <th>url</th>\n",
       "      <th>title</th>\n",
       "    </tr>\n",
       "  </thead>\n",
       "  <tbody>\n",
       "    <tr>\n",
       "      <th>0</th>\n",
       "      <td>dr gundry products</td>\n",
       "      <td>2</td>\n",
       "      <td>organic</td>\n",
       "      <td>https://gundrymd.com/</td>\n",
       "      <td>Dr. Gundry Supplements and Wellness Resources</td>\n",
       "    </tr>\n",
       "    <tr>\n",
       "      <th>1</th>\n",
       "      <td>dr gundry products</td>\n",
       "      <td>4</td>\n",
       "      <td>organic</td>\n",
       "      <td>https://gundrymd.com/shop/supplements/</td>\n",
       "      <td>Shop All Gundry MD Supplements</td>\n",
       "    </tr>\n",
       "    <tr>\n",
       "      <th>2</th>\n",
       "      <td>dr gundry products</td>\n",
       "      <td>5</td>\n",
       "      <td>organic</td>\n",
       "      <td>https://www.amazon.com/dr-steven-gundry-produc...</td>\n",
       "      <td>Dr Steven Gundry Products</td>\n",
       "    </tr>\n",
       "    <tr>\n",
       "      <th>3</th>\n",
       "      <td>dr gundry products</td>\n",
       "      <td>6</td>\n",
       "      <td>organic</td>\n",
       "      <td>https://drgundry.com/groceries/</td>\n",
       "      <td>Groceries - Dr Gundry</td>\n",
       "    </tr>\n",
       "    <tr>\n",
       "      <th>4</th>\n",
       "      <td>dr gundry products</td>\n",
       "      <td>7</td>\n",
       "      <td>organic</td>\n",
       "      <td>https://www.amazon.com/Gundry-Restore-Lining-S...</td>\n",
       "      <td>Amazon.com: Gundry MD® Total Restore® Gut Heal...</td>\n",
       "    </tr>\n",
       "  </tbody>\n",
       "</table>\n",
       "</div>"
      ],
      "text/plain": [
       "              keyword  position     type  \\\n",
       "0  dr gundry products         2  organic   \n",
       "1  dr gundry products         4  organic   \n",
       "2  dr gundry products         5  organic   \n",
       "3  dr gundry products         6  organic   \n",
       "4  dr gundry products         7  organic   \n",
       "\n",
       "                                                 url  \\\n",
       "0                              https://gundrymd.com/   \n",
       "1             https://gundrymd.com/shop/supplements/   \n",
       "2  https://www.amazon.com/dr-steven-gundry-produc...   \n",
       "3                    https://drgundry.com/groceries/   \n",
       "4  https://www.amazon.com/Gundry-Restore-Lining-S...   \n",
       "\n",
       "                                               title  \n",
       "0      Dr. Gundry Supplements and Wellness Resources  \n",
       "1                     Shop All Gundry MD Supplements  \n",
       "2                          Dr Steven Gundry Products  \n",
       "3                              Groceries - Dr Gundry  \n",
       "4  Amazon.com: Gundry MD® Total Restore® Gut Heal...  "
      ]
     },
     "execution_count": 221,
     "metadata": {},
     "output_type": "execute_result"
    }
   ],
   "source": [
    "# At this point, serp_data contains the collected SERP information\n",
    "# for further analysis or storage, let's convert this list of dictionaries\n",
    "# into a pandas DataFrame\n",
    "\n",
    "serp_df = pd.DataFrame(serp_data)\n",
    "print(serp_df.shape)\n",
    "serp_df.head()"
   ]
  },
  {
   "cell_type": "markdown",
   "id": "be7c3605-66ed-4496-94e9-f7c68d4ee7a1",
   "metadata": {},
   "source": [
    "Let's look at the URL for one of these."
   ]
  },
  {
   "cell_type": "code",
   "execution_count": 222,
   "id": "e8b893e1-ddbb-4a82-9a16-7872a7647aa7",
   "metadata": {},
   "outputs": [
    {
     "name": "stdout",
     "output_type": "stream",
     "text": [
      "https://gundrymd.com/\n"
     ]
    }
   ],
   "source": [
    "# Access the first row\n",
    "first_row = serp_df.iloc[0]\n",
    "\n",
    "# get URL column\n",
    "url = first_row[\"url\"]\n",
    "\n",
    "print(url)"
   ]
  },
  {
   "cell_type": "markdown",
   "id": "56e0282d-f0a8-4f28-9716-019ca4cfc896",
   "metadata": {},
   "source": [
    "### Interpreting Returned SERP Data"
   ]
  },
  {
   "cell_type": "markdown",
   "id": "323b1d7a-2b70-481e-ba0c-d2e25790a378",
   "metadata": {},
   "source": [
    "\n",
    "\n",
    "* **Keyword**: This is the search term or phrase you've analyzed. You see multiple rows for the same keyword because the SERP analysis fetches multiple results (URLs) that rank for this keyword. Each row represents a different webpage that ranks in the search results for the given keyword.\n",
    "\n",
    "* **Position**: This indicates the ranking position of the URL for the specified keyword in Google's search results. Position 1 is the top-ranking result, position 2 is the second, and so forth. It's crucial for SEO as websites aim to rank as high as possible, ideally on the first page of search results, to increase visibility.\n",
    "\n",
    "* **Type**: This field specifies the type of search result. In your dataframe, all entries are \"organic,\" meaning they are natural search results as opposed to \"paid\" results (like advertisements). Organic search results are based on the relevance of the webpage to the search query and other SEO factors, rather than being directly paid for placement.\n",
    "\n",
    "* **URL**: This is the web address of the page that ranks in the search results for the keyword. Each row has a different URL because each position in the search results corresponds to a different webpage. This column is essential for understanding which pages are your competition for a keyword and analyzing the content and SEO strategies that may contribute to their high ranking.\n",
    "\n",
    "* **Title**: This is the title of the webpage as it appears in the search results. It's often the \\<title\\> tag of the HTML document. The title is crucial for SEO and user engagement, as it's one of the first things a user sees in the search results and can influence whether they click on a link. A well-crafted title should be relevant to the keyword, engaging, and accurately reflect the content of the page."
   ]
  },
  {
   "cell_type": "markdown",
   "id": "3a8dbbb3-d17e-45db-a4ee-efc3418d71e9",
   "metadata": {},
   "source": [
    "### Generative AI Use-case 2: Sentiment Analysis and Relevance\n",
    "\n",
    "This code iterates over each SERP entry obtained from the previous step, sends the title and URL for sentiment and relevance analysis through a GPT-based function, and updates the DataFrame with the results.\n",
    "\n",
    "Essentially we want to make sure the SERPs for these keywords (from Group 1: Dr. Gundry Products) express positive sentiment, and are directly relevant to the brand/campaign.\n",
    "\n",
    "Let's define some helper functions below to accomplish this task."
   ]
  },
  {
   "cell_type": "code",
   "execution_count": 223,
   "id": "dc0d51ef-b1e9-4441-80a7-9ea1ddf4f231",
   "metadata": {},
   "outputs": [],
   "source": [
    "def analyze_sentiment(title):\n",
    "    prompt = f\"Given the title '{title}', determine if the sentiment is positive, negative, or neutral.\"\n",
    "    response = get_completion_from_messages([{\"role\": \"user\", \"content\": prompt}])\n",
    "    # Assuming the model's response is straightforward, like \"The sentiment is positive.\"\n",
    "    # Extracting sentiment from the response\n",
    "    try:\n",
    "        sentiment = response.split('sentiment is ')[1].split('.')[0].strip()\n",
    "        return sentiment\n",
    "    except IndexError:\n",
    "        return \"neutral\"  # Default fallback"
   ]
  },
  {
   "cell_type": "code",
   "execution_count": 233,
   "id": "b42e1ad3-3126-4418-87e4-44a336e4335a",
   "metadata": {},
   "outputs": [],
   "source": [
    "def check_relevance(title, url, keyword):\n",
    "    prompt = (\n",
    "        f\"Given the title '{title}', URL '{url}', and the keyword '{keyword}', \"\n",
    "        \"is the content likely relevant to Gundry MD? Make sure to consider external websites like Amazon.\"\n",
    "        \"Answer with yes or no.\"\n",
    "    )\n",
    "    response = get_completion_from_messages([{\"role\": \"user\", \"content\": prompt}])\n",
    "    # Assuming the model directly responds with \"yes\" or \"no\"\n",
    "    return response.strip().lower() == \"yes\"\n"
   ]
  },
  {
   "cell_type": "markdown",
   "id": "9a039db0-be01-46de-a625-c49bd7f9884c",
   "metadata": {},
   "source": [
    "Let's test the functions above to make sure they work."
   ]
  },
  {
   "cell_type": "code",
   "execution_count": 234,
   "id": "18175beb-2fec-457e-a3af-3de662c294f9",
   "metadata": {},
   "outputs": [
    {
     "name": "stdout",
     "output_type": "stream",
     "text": [
      "Sentiment: neutral, Relevance to Gundry MD?: True\n"
     ]
    }
   ],
   "source": [
    "# Example usage\n",
    "title_example = \"10 Best Supplements for Heart Health - Gundry MD\"\n",
    "url_example = \"https://gundrymd.com/supplements/heart-health\"\n",
    "keyword_example = \"heart health supplements\"\n",
    "sentiment = analyze_sentiment(title_example)\n",
    "relevance = check_relevance(title_example, url_example, keyword_example)\n",
    "print(f\"Sentiment: {sentiment}, Relevance to Gundry MD?: {relevance}\")"
   ]
  },
  {
   "cell_type": "markdown",
   "id": "ce02f07d-49dc-4395-b192-023b79df1526",
   "metadata": {},
   "source": [
    "Let's run the functions above on the first 5 entries of our SERP. We will add the columns \"Sentiment\" and \"Relevance\" with their corresponding values returned by GPT. Then we will print the final dataframe."
   ]
  },
  {
   "cell_type": "code",
   "execution_count": 235,
   "id": "9756d00a-fcf1-490f-ab2a-36ba6546227a",
   "metadata": {},
   "outputs": [],
   "source": [
    "# Create a copy of the first 5 rows from serp_df\n",
    "serp_df_temp = serp_df.loc[:4].copy()\n",
    "\n",
    "# Applying the sentiment analysis function\n",
    "serp_df_temp['Sentiment'] = serp_df_temp['title'].apply(analyze_sentiment)\n",
    "\n",
    "# Applying the relevance check function\n",
    "# Assuming 'keyword' is used for relevance check, adjust as necessary\n",
    "serp_df_temp['Relevance'] = serp_df_temp.apply(lambda row: check_relevance(row['title'], row['url'], row['keyword']), axis=1)"
   ]
  },
  {
   "cell_type": "code",
   "execution_count": 236,
   "id": "b21e7b96-be59-414b-8f1b-ad8a9c816d85",
   "metadata": {},
   "outputs": [
    {
     "data": {
      "text/html": [
       "<div>\n",
       "<style scoped>\n",
       "    .dataframe tbody tr th:only-of-type {\n",
       "        vertical-align: middle;\n",
       "    }\n",
       "\n",
       "    .dataframe tbody tr th {\n",
       "        vertical-align: top;\n",
       "    }\n",
       "\n",
       "    .dataframe thead th {\n",
       "        text-align: right;\n",
       "    }\n",
       "</style>\n",
       "<table border=\"1\" class=\"dataframe\">\n",
       "  <thead>\n",
       "    <tr style=\"text-align: right;\">\n",
       "      <th></th>\n",
       "      <th>keyword</th>\n",
       "      <th>position</th>\n",
       "      <th>type</th>\n",
       "      <th>url</th>\n",
       "      <th>title</th>\n",
       "      <th>Sentiment</th>\n",
       "      <th>Relevance</th>\n",
       "    </tr>\n",
       "  </thead>\n",
       "  <tbody>\n",
       "    <tr>\n",
       "      <th>0</th>\n",
       "      <td>dr gundry products</td>\n",
       "      <td>2</td>\n",
       "      <td>organic</td>\n",
       "      <td>https://gundrymd.com/</td>\n",
       "      <td>Dr. Gundry Supplements and Wellness Resources</td>\n",
       "      <td>neutral</td>\n",
       "      <td>True</td>\n",
       "    </tr>\n",
       "    <tr>\n",
       "      <th>1</th>\n",
       "      <td>dr gundry products</td>\n",
       "      <td>4</td>\n",
       "      <td>organic</td>\n",
       "      <td>https://gundrymd.com/shop/supplements/</td>\n",
       "      <td>Shop All Gundry MD Supplements</td>\n",
       "      <td>neutral</td>\n",
       "      <td>True</td>\n",
       "    </tr>\n",
       "    <tr>\n",
       "      <th>2</th>\n",
       "      <td>dr gundry products</td>\n",
       "      <td>5</td>\n",
       "      <td>organic</td>\n",
       "      <td>https://www.amazon.com/dr-steven-gundry-produc...</td>\n",
       "      <td>Dr Steven Gundry Products</td>\n",
       "      <td>neutral</td>\n",
       "      <td>True</td>\n",
       "    </tr>\n",
       "    <tr>\n",
       "      <th>3</th>\n",
       "      <td>dr gundry products</td>\n",
       "      <td>6</td>\n",
       "      <td>organic</td>\n",
       "      <td>https://drgundry.com/groceries/</td>\n",
       "      <td>Groceries - Dr Gundry</td>\n",
       "      <td>neutral</td>\n",
       "      <td>True</td>\n",
       "    </tr>\n",
       "    <tr>\n",
       "      <th>4</th>\n",
       "      <td>dr gundry products</td>\n",
       "      <td>7</td>\n",
       "      <td>organic</td>\n",
       "      <td>https://www.amazon.com/Gundry-Restore-Lining-S...</td>\n",
       "      <td>Amazon.com: Gundry MD® Total Restore® Gut Heal...</td>\n",
       "      <td>neutral</td>\n",
       "      <td>True</td>\n",
       "    </tr>\n",
       "  </tbody>\n",
       "</table>\n",
       "</div>"
      ],
      "text/plain": [
       "              keyword  position     type  \\\n",
       "0  dr gundry products         2  organic   \n",
       "1  dr gundry products         4  organic   \n",
       "2  dr gundry products         5  organic   \n",
       "3  dr gundry products         6  organic   \n",
       "4  dr gundry products         7  organic   \n",
       "\n",
       "                                                 url  \\\n",
       "0                              https://gundrymd.com/   \n",
       "1             https://gundrymd.com/shop/supplements/   \n",
       "2  https://www.amazon.com/dr-steven-gundry-produc...   \n",
       "3                    https://drgundry.com/groceries/   \n",
       "4  https://www.amazon.com/Gundry-Restore-Lining-S...   \n",
       "\n",
       "                                               title Sentiment  Relevance  \n",
       "0      Dr. Gundry Supplements and Wellness Resources   neutral       True  \n",
       "1                     Shop All Gundry MD Supplements   neutral       True  \n",
       "2                          Dr Steven Gundry Products   neutral       True  \n",
       "3                              Groceries - Dr Gundry   neutral       True  \n",
       "4  Amazon.com: Gundry MD® Total Restore® Gut Heal...   neutral       True  "
      ]
     },
     "execution_count": 236,
     "metadata": {},
     "output_type": "execute_result"
    }
   ],
   "source": [
    "serp_df_temp"
   ]
  },
  {
   "cell_type": "markdown",
   "id": "16a2100f-80e1-4d9f-b011-ec30d34567f8",
   "metadata": {},
   "source": [
    "So for the keyword \"dr gundry product\", GPT found these SERP entries to have neutral sentiment and relevant to Gundry MD."
   ]
  },
  {
   "cell_type": "markdown",
   "id": "ce742aeb-f8bf-41f5-8320-7f8343b3255e",
   "metadata": {},
   "source": [
    "**Ideas for Improvement**:\n",
    "\n",
    "1. Instead of just using URL and title of the SERP entries, scrape the web, and use the HTML content itself for sentiment analysis and relevance analysis.\n",
    "2. Construct more sophisticated prompts for further analaysis of SERP data.\n",
    "3. Have guard rails in place to detect incorrect/hallucinated output from GPT model.\n",
    "4. Use GPT4, makes much less mistakes! A lot more powerful, but costs more too."
   ]
  },
  {
   "cell_type": "markdown",
   "id": "4cecda25-1a29-43e6-8146-a7ac67787e09",
   "metadata": {},
   "source": [
    "## Competitor Analysis \n",
    "***"
   ]
  },
  {
   "cell_type": "markdown",
   "id": "defb1d52-a711-4bf9-8d7d-03be210e1380",
   "metadata": {},
   "source": [
    "### Getting SERPs for Keywords"
   ]
  },
  {
   "cell_type": "markdown",
   "id": "2326a54c-2d3d-4700-9595-41e02527da3e",
   "metadata": {},
   "source": [
    "Let's focus on another keyword group related to Gundry MD. Remember our groups were:"
   ]
  },
  {
   "cell_type": "code",
   "execution_count": 238,
   "id": "cea02992-7546-4625-88ef-3ec037dcc379",
   "metadata": {},
   "outputs": [
    {
     "name": "stdout",
     "output_type": "stream",
     "text": [
      "Dr. Gundry Products\n",
      "Weight Loss Supplements\n",
      "Probiotics and Gut Health\n",
      "Vitamin and Supplement Store\n",
      "Other Health-related Keywords\n"
     ]
    }
   ],
   "source": [
    "# Print all the group names\n",
    "for key in keyword_groups_dict.keys():\n",
    "    print(key)"
   ]
  },
  {
   "cell_type": "markdown",
   "id": "a697b488-fc53-4743-8fc8-9ae8a9629628",
   "metadata": {},
   "source": [
    "Let's look at the \"Weight Loss Supplements\" group."
   ]
  },
  {
   "cell_type": "code",
   "execution_count": 242,
   "id": "359f314c-e5fc-4156-9ab2-532446df3f13",
   "metadata": {},
   "outputs": [
    {
     "data": {
      "text/plain": [
       "['supplements for weight loss',\n",
       " 'fat burning supplements',\n",
       " 'best over the counter weight loss supplements',\n",
       " 'vitamins that aid in weight loss',\n",
       " 'fat reduction supplements',\n",
       " 'protein food supplements',\n",
       " 'best supplements for weight loss',\n",
       " 'best weight loss supplements for women',\n",
       " 'best weight loss products for women',\n",
       " 'best foods for gut health',\n",
       " 'best dietary supplements for weight loss',\n",
       " 'good supplements for weight loss',\n",
       " 'diet supplements for weight loss',\n",
       " 'dietary pills',\n",
       " 'weight control supplements',\n",
       " 'loss weight supplement',\n",
       " 'best tablets for weight loss',\n",
       " 'best weight loss capsules']"
      ]
     },
     "execution_count": 242,
     "metadata": {},
     "output_type": "execute_result"
    }
   ],
   "source": [
    "keyword_groups_dict['Weight Loss Supplements']"
   ]
  },
  {
   "cell_type": "markdown",
   "id": "3be6d985-93b5-4c39-b836-24d01617f58a",
   "metadata": {},
   "source": [
    "Let's pick a keyword from this group \"supplements for weight loss\" and get the SERP results:"
   ]
  },
  {
   "cell_type": "code",
   "execution_count": 252,
   "id": "4337e7a2-4b62-4114-85ee-4d3ba39b07d6",
   "metadata": {},
   "outputs": [
    {
     "name": "stdout",
     "output_type": "stream",
     "text": [
      "supplements for weight loss\n"
     ]
    }
   ],
   "source": [
    "keyword_of_interest = keyword_groups_dict['Weight Loss Supplements'][0]\n",
    "print(keyword_of_interest)"
   ]
  },
  {
   "cell_type": "code",
   "execution_count": 253,
   "id": "035d1cde-60de-4e82-8095-5fa98cae86f0",
   "metadata": {},
   "outputs": [
    {
     "name": "stdout",
     "output_type": "stream",
     "text": [
      "Keywords: ['supplements for weight loss']\n",
      "20000\n"
     ]
    }
   ],
   "source": [
    "# Define the endpoint URL\n",
    "url = \"https://api.dataforseo.com/v3/serp/google/organic/live/regular\"\n",
    "\n",
    "\n",
    "# Testing with just 1 keyword so the code runs fast, but can pass entire list of keywords\n",
    "keywords = [keyword_groups_dict['Weight Loss Supplements'][0]]\n",
    "\n",
    "print(f\"Keywords: {keywords}\")\n",
    "\n",
    "# Initialize a list to store SERP data\n",
    "serp_data = []\n",
    "\n",
    "# Iterate over keywords to fetch SERP data\n",
    "for keyword in keywords:\n",
    "    payload = json.dumps([{\n",
    "        \"language_code\": \"en\",\n",
    "        \"location_code\": 2840,  # Location code for the United States\n",
    "        \"keyword\": keyword\n",
    "    }])\n",
    "    headers = {\"Authorization\": f\"Basic {dataforseo_username}:{dataforseo_password}\", \"Content-Type\": \"application/json\"}\n",
    "    response = requests.post(url, auth=(dataforseo_username, dataforseo_password), headers=headers, data=payload)\n",
    "    result = response.json()\n",
    "\n",
    "    # Process the response\n",
    "    print(result['status_code'])\n",
    "    if result['status_code'] == 20000:\n",
    "        task_data = result['tasks'][0]['result'][0]['items']\n",
    "        for item in task_data:\n",
    "            if item['type'] in ['organic', 'paid']:\n",
    "                serp_data.append({\n",
    "                    \"keyword\": keyword,\n",
    "                    \"position\": item.get('rank_absolute', None),\n",
    "                    \"type\": item['type'],\n",
    "                    \"url\": item.get('url', None),\n",
    "                    \"title\": item.get('title', None)\n",
    "                })"
   ]
  },
  {
   "cell_type": "markdown",
   "id": "7660e5fd-01e7-4578-9e22-394b1e382d1e",
   "metadata": {},
   "source": [
    "Let's look at the SERP data for the keyword \"supplements for weight loss\"."
   ]
  },
  {
   "cell_type": "code",
   "execution_count": 254,
   "id": "517c003f-f0a1-4a07-926b-78342d0936cc",
   "metadata": {},
   "outputs": [
    {
     "name": "stdout",
     "output_type": "stream",
     "text": [
      "(99, 5)\n"
     ]
    },
    {
     "data": {
      "text/html": [
       "<div>\n",
       "<style scoped>\n",
       "    .dataframe tbody tr th:only-of-type {\n",
       "        vertical-align: middle;\n",
       "    }\n",
       "\n",
       "    .dataframe tbody tr th {\n",
       "        vertical-align: top;\n",
       "    }\n",
       "\n",
       "    .dataframe thead th {\n",
       "        text-align: right;\n",
       "    }\n",
       "</style>\n",
       "<table border=\"1\" class=\"dataframe\">\n",
       "  <thead>\n",
       "    <tr style=\"text-align: right;\">\n",
       "      <th></th>\n",
       "      <th>keyword</th>\n",
       "      <th>position</th>\n",
       "      <th>type</th>\n",
       "      <th>url</th>\n",
       "      <th>title</th>\n",
       "    </tr>\n",
       "  </thead>\n",
       "  <tbody>\n",
       "    <tr>\n",
       "      <th>0</th>\n",
       "      <td>supplements for weight loss</td>\n",
       "      <td>1</td>\n",
       "      <td>organic</td>\n",
       "      <td>https://www.webmd.com/vitamins-and-supplements...</td>\n",
       "      <td>11 Supplements and Herbs for Weight Loss Expla...</td>\n",
       "    </tr>\n",
       "    <tr>\n",
       "      <th>1</th>\n",
       "      <td>supplements for weight loss</td>\n",
       "      <td>3</td>\n",
       "      <td>organic</td>\n",
       "      <td>https://www.forbes.com/health/weight-loss/top-...</td>\n",
       "      <td>A Guide To The Top Weight Loss Supplements In ...</td>\n",
       "    </tr>\n",
       "    <tr>\n",
       "      <th>2</th>\n",
       "      <td>supplements for weight loss</td>\n",
       "      <td>4</td>\n",
       "      <td>organic</td>\n",
       "      <td>https://www.mayoclinic.org/healthy-lifestyle/w...</td>\n",
       "      <td>Dietary supplements for weight loss</td>\n",
       "    </tr>\n",
       "    <tr>\n",
       "      <th>3</th>\n",
       "      <td>supplements for weight loss</td>\n",
       "      <td>5</td>\n",
       "      <td>organic</td>\n",
       "      <td>https://ods.od.nih.gov/factsheets/WeightLoss-H...</td>\n",
       "      <td>Dietary Supplements for Weight Loss</td>\n",
       "    </tr>\n",
       "    <tr>\n",
       "      <th>4</th>\n",
       "      <td>supplements for weight loss</td>\n",
       "      <td>6</td>\n",
       "      <td>organic</td>\n",
       "      <td>https://www.gnc.com/weight-management/calorie-...</td>\n",
       "      <td>Shop Fat Burner Supplements &amp; Thermogenics</td>\n",
       "    </tr>\n",
       "  </tbody>\n",
       "</table>\n",
       "</div>"
      ],
      "text/plain": [
       "                       keyword  position     type  \\\n",
       "0  supplements for weight loss         1  organic   \n",
       "1  supplements for weight loss         3  organic   \n",
       "2  supplements for weight loss         4  organic   \n",
       "3  supplements for weight loss         5  organic   \n",
       "4  supplements for weight loss         6  organic   \n",
       "\n",
       "                                                 url  \\\n",
       "0  https://www.webmd.com/vitamins-and-supplements...   \n",
       "1  https://www.forbes.com/health/weight-loss/top-...   \n",
       "2  https://www.mayoclinic.org/healthy-lifestyle/w...   \n",
       "3  https://ods.od.nih.gov/factsheets/WeightLoss-H...   \n",
       "4  https://www.gnc.com/weight-management/calorie-...   \n",
       "\n",
       "                                               title  \n",
       "0  11 Supplements and Herbs for Weight Loss Expla...  \n",
       "1  A Guide To The Top Weight Loss Supplements In ...  \n",
       "2                Dietary supplements for weight loss  \n",
       "3                Dietary Supplements for Weight Loss  \n",
       "4         Shop Fat Burner Supplements & Thermogenics  "
      ]
     },
     "execution_count": 254,
     "metadata": {},
     "output_type": "execute_result"
    }
   ],
   "source": [
    "# At this point, serp_data contains the collected SERP information\n",
    "# for further analysis or storage, let's convert this list of dictionaries\n",
    "# into a pandas DataFrame\n",
    "\n",
    "serp_df = pd.DataFrame(serp_data)\n",
    "print(serp_df.shape)\n",
    "serp_df.head()"
   ]
  },
  {
   "cell_type": "markdown",
   "id": "6ae04101-58b1-4f87-ac2e-0380fce1d172",
   "metadata": {},
   "source": [
    "Now let's get the top 20 results. We will analyze these."
   ]
  },
  {
   "cell_type": "code",
   "execution_count": 261,
   "id": "6a1cbfd0-a8e2-443e-933b-13f6fcd70f44",
   "metadata": {},
   "outputs": [
    {
     "data": {
      "text/html": [
       "<div>\n",
       "<style scoped>\n",
       "    .dataframe tbody tr th:only-of-type {\n",
       "        vertical-align: middle;\n",
       "    }\n",
       "\n",
       "    .dataframe tbody tr th {\n",
       "        vertical-align: top;\n",
       "    }\n",
       "\n",
       "    .dataframe thead th {\n",
       "        text-align: right;\n",
       "    }\n",
       "</style>\n",
       "<table border=\"1\" class=\"dataframe\">\n",
       "  <thead>\n",
       "    <tr style=\"text-align: right;\">\n",
       "      <th></th>\n",
       "      <th>keyword</th>\n",
       "      <th>position</th>\n",
       "      <th>type</th>\n",
       "      <th>url</th>\n",
       "      <th>title</th>\n",
       "    </tr>\n",
       "  </thead>\n",
       "  <tbody>\n",
       "    <tr>\n",
       "      <th>0</th>\n",
       "      <td>supplements for weight loss</td>\n",
       "      <td>1</td>\n",
       "      <td>organic</td>\n",
       "      <td>https://www.webmd.com/vitamins-and-supplements...</td>\n",
       "      <td>11 Supplements and Herbs for Weight Loss Expla...</td>\n",
       "    </tr>\n",
       "    <tr>\n",
       "      <th>1</th>\n",
       "      <td>supplements for weight loss</td>\n",
       "      <td>3</td>\n",
       "      <td>organic</td>\n",
       "      <td>https://www.forbes.com/health/weight-loss/top-...</td>\n",
       "      <td>A Guide To The Top Weight Loss Supplements In ...</td>\n",
       "    </tr>\n",
       "    <tr>\n",
       "      <th>2</th>\n",
       "      <td>supplements for weight loss</td>\n",
       "      <td>4</td>\n",
       "      <td>organic</td>\n",
       "      <td>https://www.mayoclinic.org/healthy-lifestyle/w...</td>\n",
       "      <td>Dietary supplements for weight loss</td>\n",
       "    </tr>\n",
       "    <tr>\n",
       "      <th>3</th>\n",
       "      <td>supplements for weight loss</td>\n",
       "      <td>5</td>\n",
       "      <td>organic</td>\n",
       "      <td>https://ods.od.nih.gov/factsheets/WeightLoss-H...</td>\n",
       "      <td>Dietary Supplements for Weight Loss</td>\n",
       "    </tr>\n",
       "    <tr>\n",
       "      <th>4</th>\n",
       "      <td>supplements for weight loss</td>\n",
       "      <td>6</td>\n",
       "      <td>organic</td>\n",
       "      <td>https://www.gnc.com/weight-management/calorie-...</td>\n",
       "      <td>Shop Fat Burner Supplements &amp; Thermogenics</td>\n",
       "    </tr>\n",
       "    <tr>\n",
       "      <th>5</th>\n",
       "      <td>supplements for weight loss</td>\n",
       "      <td>7</td>\n",
       "      <td>organic</td>\n",
       "      <td>https://www.healthline.com/nutrition/weight-lo...</td>\n",
       "      <td>Weight Loss Medications: Do They Work?</td>\n",
       "    </tr>\n",
       "    <tr>\n",
       "      <th>6</th>\n",
       "      <td>supplements for weight loss</td>\n",
       "      <td>9</td>\n",
       "      <td>organic</td>\n",
       "      <td>https://healthmatch.io/weight-management/suppl...</td>\n",
       "      <td>7 Supplements For Weight Loss (That Actually W...</td>\n",
       "    </tr>\n",
       "    <tr>\n",
       "      <th>7</th>\n",
       "      <td>supplements for weight loss</td>\n",
       "      <td>10</td>\n",
       "      <td>organic</td>\n",
       "      <td>https://ods.od.nih.gov/factsheets/WeightLoss-C...</td>\n",
       "      <td>Dietary Supplements for Weight Loss - Consumer</td>\n",
       "    </tr>\n",
       "    <tr>\n",
       "      <th>8</th>\n",
       "      <td>supplements for weight loss</td>\n",
       "      <td>11</td>\n",
       "      <td>organic</td>\n",
       "      <td>https://www.amazon.com/Best-Sellers-Fat-Burner...</td>\n",
       "      <td>Best Fat Burner Supplements</td>\n",
       "    </tr>\n",
       "    <tr>\n",
       "      <th>9</th>\n",
       "      <td>supplements for weight loss</td>\n",
       "      <td>12</td>\n",
       "      <td>organic</td>\n",
       "      <td>https://www.mayoclinic.org/healthy-lifestyle/w...</td>\n",
       "      <td>Prescription weight-loss drugs: Can they help ...</td>\n",
       "    </tr>\n",
       "    <tr>\n",
       "      <th>10</th>\n",
       "      <td>supplements for weight loss</td>\n",
       "      <td>13</td>\n",
       "      <td>organic</td>\n",
       "      <td>https://www.healthline.com/nutrition/5-natural...</td>\n",
       "      <td>5 Natural Fat Burners That Work</td>\n",
       "    </tr>\n",
       "    <tr>\n",
       "      <th>11</th>\n",
       "      <td>supplements for weight loss</td>\n",
       "      <td>14</td>\n",
       "      <td>organic</td>\n",
       "      <td>https://www.washingtonian.com/2023/08/21/best-...</td>\n",
       "      <td>Best Supplements for Weight Loss in 2023: Top ...</td>\n",
       "    </tr>\n",
       "    <tr>\n",
       "      <th>12</th>\n",
       "      <td>supplements for weight loss</td>\n",
       "      <td>15</td>\n",
       "      <td>organic</td>\n",
       "      <td>https://www.nbcnews.com/health/health-news/ber...</td>\n",
       "      <td>What is berberine, the supplement dubbed 'natu...</td>\n",
       "    </tr>\n",
       "    <tr>\n",
       "      <th>13</th>\n",
       "      <td>supplements for weight loss</td>\n",
       "      <td>16</td>\n",
       "      <td>organic</td>\n",
       "      <td>https://www.myalli.com/</td>\n",
       "      <td>FDA-approved Weight Loss Aid | alli®</td>\n",
       "    </tr>\n",
       "    <tr>\n",
       "      <th>14</th>\n",
       "      <td>supplements for weight loss</td>\n",
       "      <td>17</td>\n",
       "      <td>organic</td>\n",
       "      <td>https://thesilhouetteclinic.com/best-vitamins-...</td>\n",
       "      <td>The Best Vitamins for Weight Loss: A Comprehen...</td>\n",
       "    </tr>\n",
       "    <tr>\n",
       "      <th>15</th>\n",
       "      <td>supplements for weight loss</td>\n",
       "      <td>18</td>\n",
       "      <td>organic</td>\n",
       "      <td>https://www.amazon.com/Weight-Loss-Supplements...</td>\n",
       "      <td>Weight Loss Supplements</td>\n",
       "    </tr>\n",
       "    <tr>\n",
       "      <th>16</th>\n",
       "      <td>supplements for weight loss</td>\n",
       "      <td>20</td>\n",
       "      <td>organic</td>\n",
       "      <td>https://irwinnaturals.com/collections/weight-m...</td>\n",
       "      <td>Shop Natural Weight Loss Supplements for Women...</td>\n",
       "    </tr>\n",
       "    <tr>\n",
       "      <th>17</th>\n",
       "      <td>supplements for weight loss</td>\n",
       "      <td>21</td>\n",
       "      <td>organic</td>\n",
       "      <td>https://www.businessinsider.com/guides/health/...</td>\n",
       "      <td>11 Common Weight Loss Supplements and If They ...</td>\n",
       "    </tr>\n",
       "    <tr>\n",
       "      <th>18</th>\n",
       "      <td>supplements for weight loss</td>\n",
       "      <td>22</td>\n",
       "      <td>organic</td>\n",
       "      <td>https://www.thorne.com/products/dp/weight-mana...</td>\n",
       "      <td>Weight Management Bundle &amp; Reviews</td>\n",
       "    </tr>\n",
       "    <tr>\n",
       "      <th>19</th>\n",
       "      <td>supplements for weight loss</td>\n",
       "      <td>23</td>\n",
       "      <td>organic</td>\n",
       "      <td>https://www.webmd.com/vitamins-and-supplements...</td>\n",
       "      <td>Fat Burner Supplements: What Are They, Do ...</td>\n",
       "    </tr>\n",
       "  </tbody>\n",
       "</table>\n",
       "</div>"
      ],
      "text/plain": [
       "                        keyword  position     type  \\\n",
       "0   supplements for weight loss         1  organic   \n",
       "1   supplements for weight loss         3  organic   \n",
       "2   supplements for weight loss         4  organic   \n",
       "3   supplements for weight loss         5  organic   \n",
       "4   supplements for weight loss         6  organic   \n",
       "5   supplements for weight loss         7  organic   \n",
       "6   supplements for weight loss         9  organic   \n",
       "7   supplements for weight loss        10  organic   \n",
       "8   supplements for weight loss        11  organic   \n",
       "9   supplements for weight loss        12  organic   \n",
       "10  supplements for weight loss        13  organic   \n",
       "11  supplements for weight loss        14  organic   \n",
       "12  supplements for weight loss        15  organic   \n",
       "13  supplements for weight loss        16  organic   \n",
       "14  supplements for weight loss        17  organic   \n",
       "15  supplements for weight loss        18  organic   \n",
       "16  supplements for weight loss        20  organic   \n",
       "17  supplements for weight loss        21  organic   \n",
       "18  supplements for weight loss        22  organic   \n",
       "19  supplements for weight loss        23  organic   \n",
       "\n",
       "                                                  url  \\\n",
       "0   https://www.webmd.com/vitamins-and-supplements...   \n",
       "1   https://www.forbes.com/health/weight-loss/top-...   \n",
       "2   https://www.mayoclinic.org/healthy-lifestyle/w...   \n",
       "3   https://ods.od.nih.gov/factsheets/WeightLoss-H...   \n",
       "4   https://www.gnc.com/weight-management/calorie-...   \n",
       "5   https://www.healthline.com/nutrition/weight-lo...   \n",
       "6   https://healthmatch.io/weight-management/suppl...   \n",
       "7   https://ods.od.nih.gov/factsheets/WeightLoss-C...   \n",
       "8   https://www.amazon.com/Best-Sellers-Fat-Burner...   \n",
       "9   https://www.mayoclinic.org/healthy-lifestyle/w...   \n",
       "10  https://www.healthline.com/nutrition/5-natural...   \n",
       "11  https://www.washingtonian.com/2023/08/21/best-...   \n",
       "12  https://www.nbcnews.com/health/health-news/ber...   \n",
       "13                            https://www.myalli.com/   \n",
       "14  https://thesilhouetteclinic.com/best-vitamins-...   \n",
       "15  https://www.amazon.com/Weight-Loss-Supplements...   \n",
       "16  https://irwinnaturals.com/collections/weight-m...   \n",
       "17  https://www.businessinsider.com/guides/health/...   \n",
       "18  https://www.thorne.com/products/dp/weight-mana...   \n",
       "19  https://www.webmd.com/vitamins-and-supplements...   \n",
       "\n",
       "                                                title  \n",
       "0   11 Supplements and Herbs for Weight Loss Expla...  \n",
       "1   A Guide To The Top Weight Loss Supplements In ...  \n",
       "2                 Dietary supplements for weight loss  \n",
       "3                 Dietary Supplements for Weight Loss  \n",
       "4          Shop Fat Burner Supplements & Thermogenics  \n",
       "5              Weight Loss Medications: Do They Work?  \n",
       "6   7 Supplements For Weight Loss (That Actually W...  \n",
       "7      Dietary Supplements for Weight Loss - Consumer  \n",
       "8                         Best Fat Burner Supplements  \n",
       "9   Prescription weight-loss drugs: Can they help ...  \n",
       "10                    5 Natural Fat Burners That Work  \n",
       "11  Best Supplements for Weight Loss in 2023: Top ...  \n",
       "12  What is berberine, the supplement dubbed 'natu...  \n",
       "13               FDA-approved Weight Loss Aid | alli®  \n",
       "14  The Best Vitamins for Weight Loss: A Comprehen...  \n",
       "15                            Weight Loss Supplements  \n",
       "16  Shop Natural Weight Loss Supplements for Women...  \n",
       "17  11 Common Weight Loss Supplements and If They ...  \n",
       "18                 Weight Management Bundle & Reviews  \n",
       "19      Fat Burner Supplements: What Are They, Do ...  "
      ]
     },
     "execution_count": 261,
     "metadata": {},
     "output_type": "execute_result"
    }
   ],
   "source": [
    "serp_subset = serp_df.head(20)\n",
    "serp_subset"
   ]
  },
  {
   "cell_type": "markdown",
   "id": "71be4165-8ec8-499e-bd8e-4dd563775117",
   "metadata": {},
   "source": [
    "### Generative AI Use-case 3: Analyzing Themes for SEO Competitors \n",
    "\n",
    "Understanding the content themes of competitors ranking for similar keywords is important for strategizing content creation and improving search visibility. Generative AI, particularly models like GPT, can provide useful insights by analyzing the themes present in the titles and URLs of top-ranking competitor pages.\n",
    "\n",
    "Let's use the \"url\" and \"title\" fields returned by the SERP API to analyze themes. This can be much improved if we actually scrape the website in the SERP entry and give the content to the model."
   ]
  },
  {
   "cell_type": "code",
   "execution_count": 297,
   "id": "c48783db-1620-4dc2-9f3a-6c55c6b272cd",
   "metadata": {},
   "outputs": [],
   "source": [
    "def analyze_theme(title, url):\n",
    "    prompt = (\n",
    "        f\"Given the title '{title}' from the URL '{url}', \"\n",
    "        \"analyze and summarize the main theme or topic of the content. Provide a concise theme or topic summary.\"\n",
    "        \"Don't prepend the theme string itself with anything, restrict your answers to short terms for each theme.\"\n",
    "    )\n",
    "    response = get_completion_from_messages([{\"role\": \"user\", \"content\": prompt}])\n",
    "    # Assuming the model directly responds with \"yes\" or \"no\"\n",
    "    return response\n"
   ]
  },
  {
   "cell_type": "code",
   "execution_count": 285,
   "id": "fb80793b-8897-4b96-9bf4-ac1f62451496",
   "metadata": {},
   "outputs": [],
   "source": [
    "# Create a copy of the first 5 rows from serp_df for demonstration\n",
    "serp_df_temp = serp_df.iloc[:5].copy()\n",
    "\n",
    "# Applying the theme analyzing function\n",
    "serp_df_temp['Theme'] = serp_df_temp.apply(lambda row: analyze_theme(row['title'], row['url']), axis=1)\n",
    "\n",
    "\n",
    "\n"
   ]
  },
  {
   "cell_type": "code",
   "execution_count": 287,
   "id": "b7db7163-f7cd-4156-b396-59090da879f7",
   "metadata": {},
   "outputs": [
    {
     "data": {
      "text/html": [
       "<div>\n",
       "<style scoped>\n",
       "    .dataframe tbody tr th:only-of-type {\n",
       "        vertical-align: middle;\n",
       "    }\n",
       "\n",
       "    .dataframe tbody tr th {\n",
       "        vertical-align: top;\n",
       "    }\n",
       "\n",
       "    .dataframe thead th {\n",
       "        text-align: right;\n",
       "    }\n",
       "</style>\n",
       "<table border=\"1\" class=\"dataframe\">\n",
       "  <thead>\n",
       "    <tr style=\"text-align: right;\">\n",
       "      <th></th>\n",
       "      <th>keyword</th>\n",
       "      <th>position</th>\n",
       "      <th>type</th>\n",
       "      <th>url</th>\n",
       "      <th>title</th>\n",
       "      <th>Theme</th>\n",
       "    </tr>\n",
       "  </thead>\n",
       "  <tbody>\n",
       "    <tr>\n",
       "      <th>0</th>\n",
       "      <td>supplements for weight loss</td>\n",
       "      <td>1</td>\n",
       "      <td>organic</td>\n",
       "      <td>https://www.webmd.com/vitamins-and-supplements...</td>\n",
       "      <td>11 Supplements and Herbs for Weight Loss Expla...</td>\n",
       "      <td>Supplements and herbs for weight loss</td>\n",
       "    </tr>\n",
       "    <tr>\n",
       "      <th>1</th>\n",
       "      <td>supplements for weight loss</td>\n",
       "      <td>3</td>\n",
       "      <td>organic</td>\n",
       "      <td>https://www.forbes.com/health/weight-loss/top-...</td>\n",
       "      <td>A Guide To The Top Weight Loss Supplements In ...</td>\n",
       "      <td>Weight Loss Supplements</td>\n",
       "    </tr>\n",
       "    <tr>\n",
       "      <th>2</th>\n",
       "      <td>supplements for weight loss</td>\n",
       "      <td>4</td>\n",
       "      <td>organic</td>\n",
       "      <td>https://www.mayoclinic.org/healthy-lifestyle/w...</td>\n",
       "      <td>Dietary supplements for weight loss</td>\n",
       "      <td>Dietary supplements for weight loss</td>\n",
       "    </tr>\n",
       "    <tr>\n",
       "      <th>3</th>\n",
       "      <td>supplements for weight loss</td>\n",
       "      <td>5</td>\n",
       "      <td>organic</td>\n",
       "      <td>https://ods.od.nih.gov/factsheets/WeightLoss-H...</td>\n",
       "      <td>Dietary Supplements for Weight Loss</td>\n",
       "      <td>Dietary Supplements for Weight Loss</td>\n",
       "    </tr>\n",
       "    <tr>\n",
       "      <th>4</th>\n",
       "      <td>supplements for weight loss</td>\n",
       "      <td>6</td>\n",
       "      <td>organic</td>\n",
       "      <td>https://www.gnc.com/weight-management/calorie-...</td>\n",
       "      <td>Shop Fat Burner Supplements &amp; Thermogenics</td>\n",
       "      <td>Weight management</td>\n",
       "    </tr>\n",
       "  </tbody>\n",
       "</table>\n",
       "</div>"
      ],
      "text/plain": [
       "                       keyword  position     type  \\\n",
       "0  supplements for weight loss         1  organic   \n",
       "1  supplements for weight loss         3  organic   \n",
       "2  supplements for weight loss         4  organic   \n",
       "3  supplements for weight loss         5  organic   \n",
       "4  supplements for weight loss         6  organic   \n",
       "\n",
       "                                                 url  \\\n",
       "0  https://www.webmd.com/vitamins-and-supplements...   \n",
       "1  https://www.forbes.com/health/weight-loss/top-...   \n",
       "2  https://www.mayoclinic.org/healthy-lifestyle/w...   \n",
       "3  https://ods.od.nih.gov/factsheets/WeightLoss-H...   \n",
       "4  https://www.gnc.com/weight-management/calorie-...   \n",
       "\n",
       "                                               title  \\\n",
       "0  11 Supplements and Herbs for Weight Loss Expla...   \n",
       "1  A Guide To The Top Weight Loss Supplements In ...   \n",
       "2                Dietary supplements for weight loss   \n",
       "3                Dietary Supplements for Weight Loss   \n",
       "4         Shop Fat Burner Supplements & Thermogenics   \n",
       "\n",
       "                                   Theme  \n",
       "0  Supplements and herbs for weight loss  \n",
       "1                Weight Loss Supplements  \n",
       "2    Dietary supplements for weight loss  \n",
       "3    Dietary Supplements for Weight Loss  \n",
       "4                      Weight management  "
      ]
     },
     "execution_count": 287,
     "metadata": {},
     "output_type": "execute_result"
    }
   ],
   "source": [
    "serp_df_temp"
   ]
  },
  {
   "cell_type": "markdown",
   "id": "91ddc20b-0610-431a-9fc3-54af6922c705",
   "metadata": {},
   "source": [
    "**Ideas for Improvement**:\n",
    "\n",
    "* Scrape the web for each of these URLs to get more information about them, then feed to GPT for better theme analysis/categorization.\n",
    "* **SEO Competitor vs Industry Competitor**: Can use the model to extract the industry competitors then perform theme analysis/categorizzation.\n",
    "* Specify a list of themes, and have the model categorize these SERP results based on this list.\n",
    "* Restrict the analysis to industry competitors of Gundry MD."
   ]
  },
  {
   "cell_type": "markdown",
   "id": "b72e4075-56c8-452b-b441-b395e530b184",
   "metadata": {},
   "source": [
    "### Generative AI Use-case 4: Extract Industry Competitors from SERPs\n",
    "\n",
    "\n",
    "Let's go through our SERP results, and extract the ones that are direct industry competitors to Gundry MD. We will add a new column \"Industry Competitor\" which specifies whether or not the website in each corresponding SERP entry (row) is a direct industry competitor to Gundry MD."
   ]
  },
  {
   "cell_type": "code",
   "execution_count": 294,
   "id": "4b9ac765-6756-49d5-9444-79b250e5be1d",
   "metadata": {},
   "outputs": [],
   "source": [
    "def extract_competitor(title, url):\n",
    "    prompt = (\n",
    "        f\"Given the title '{title}' from the URL '{url}', \"\n",
    "        \"Check if this represents a company, and if it is, check if it is a direct competitor to Gundry MD.\"\n",
    "        \"Don't prepend the answer string itself with anything, restrict your answer to Yes or No only.\"\n",
    "        \"Yes, if it is a direct industry competitor, No if not a competitor.\"\n",
    "    )\n",
    "    response = get_completion_from_messages([{\"role\": \"user\", \"content\": prompt}])\n",
    "    # Assuming the model directly responds with \"yes\" or \"no\"\n",
    "    return response\n"
   ]
  },
  {
   "cell_type": "code",
   "execution_count": 298,
   "id": "598423eb-d84a-42cf-adeb-86939374df76",
   "metadata": {},
   "outputs": [],
   "source": [
    "# Create a copy of the first 5 rows from serp_df for demonstration\n",
    "serp_df_temp = serp_df.iloc[:5].copy()\n",
    "\n",
    "# Applying the theme analyzing function\n",
    "serp_df_temp['Industry Competitor'] = serp_df_temp.apply(lambda row: extract_competitor(row['title'], row['url']), axis=1)"
   ]
  },
  {
   "cell_type": "code",
   "execution_count": 299,
   "id": "443cf9b1-caa5-4aed-b2ba-6d8cb247af2f",
   "metadata": {},
   "outputs": [
    {
     "data": {
      "text/html": [
       "<div>\n",
       "<style scoped>\n",
       "    .dataframe tbody tr th:only-of-type {\n",
       "        vertical-align: middle;\n",
       "    }\n",
       "\n",
       "    .dataframe tbody tr th {\n",
       "        vertical-align: top;\n",
       "    }\n",
       "\n",
       "    .dataframe thead th {\n",
       "        text-align: right;\n",
       "    }\n",
       "</style>\n",
       "<table border=\"1\" class=\"dataframe\">\n",
       "  <thead>\n",
       "    <tr style=\"text-align: right;\">\n",
       "      <th></th>\n",
       "      <th>keyword</th>\n",
       "      <th>position</th>\n",
       "      <th>type</th>\n",
       "      <th>url</th>\n",
       "      <th>title</th>\n",
       "      <th>Industry Competitor</th>\n",
       "    </tr>\n",
       "  </thead>\n",
       "  <tbody>\n",
       "    <tr>\n",
       "      <th>0</th>\n",
       "      <td>supplements for weight loss</td>\n",
       "      <td>1</td>\n",
       "      <td>organic</td>\n",
       "      <td>https://www.webmd.com/vitamins-and-supplements...</td>\n",
       "      <td>11 Supplements and Herbs for Weight Loss Expla...</td>\n",
       "      <td>No</td>\n",
       "    </tr>\n",
       "    <tr>\n",
       "      <th>1</th>\n",
       "      <td>supplements for weight loss</td>\n",
       "      <td>3</td>\n",
       "      <td>organic</td>\n",
       "      <td>https://www.forbes.com/health/weight-loss/top-...</td>\n",
       "      <td>A Guide To The Top Weight Loss Supplements In ...</td>\n",
       "      <td>No</td>\n",
       "    </tr>\n",
       "    <tr>\n",
       "      <th>2</th>\n",
       "      <td>supplements for weight loss</td>\n",
       "      <td>4</td>\n",
       "      <td>organic</td>\n",
       "      <td>https://www.mayoclinic.org/healthy-lifestyle/w...</td>\n",
       "      <td>Dietary supplements for weight loss</td>\n",
       "      <td>No</td>\n",
       "    </tr>\n",
       "    <tr>\n",
       "      <th>3</th>\n",
       "      <td>supplements for weight loss</td>\n",
       "      <td>5</td>\n",
       "      <td>organic</td>\n",
       "      <td>https://ods.od.nih.gov/factsheets/WeightLoss-H...</td>\n",
       "      <td>Dietary Supplements for Weight Loss</td>\n",
       "      <td>No</td>\n",
       "    </tr>\n",
       "    <tr>\n",
       "      <th>4</th>\n",
       "      <td>supplements for weight loss</td>\n",
       "      <td>6</td>\n",
       "      <td>organic</td>\n",
       "      <td>https://www.gnc.com/weight-management/calorie-...</td>\n",
       "      <td>Shop Fat Burner Supplements &amp; Thermogenics</td>\n",
       "      <td>No</td>\n",
       "    </tr>\n",
       "  </tbody>\n",
       "</table>\n",
       "</div>"
      ],
      "text/plain": [
       "                       keyword  position     type  \\\n",
       "0  supplements for weight loss         1  organic   \n",
       "1  supplements for weight loss         3  organic   \n",
       "2  supplements for weight loss         4  organic   \n",
       "3  supplements for weight loss         5  organic   \n",
       "4  supplements for weight loss         6  organic   \n",
       "\n",
       "                                                 url  \\\n",
       "0  https://www.webmd.com/vitamins-and-supplements...   \n",
       "1  https://www.forbes.com/health/weight-loss/top-...   \n",
       "2  https://www.mayoclinic.org/healthy-lifestyle/w...   \n",
       "3  https://ods.od.nih.gov/factsheets/WeightLoss-H...   \n",
       "4  https://www.gnc.com/weight-management/calorie-...   \n",
       "\n",
       "                                               title Industry Competitor  \n",
       "0  11 Supplements and Herbs for Weight Loss Expla...                  No  \n",
       "1  A Guide To The Top Weight Loss Supplements In ...                  No  \n",
       "2                Dietary supplements for weight loss                  No  \n",
       "3                Dietary Supplements for Weight Loss                  No  \n",
       "4         Shop Fat Burner Supplements & Thermogenics                  No  "
      ]
     },
     "execution_count": 299,
     "metadata": {},
     "output_type": "execute_result"
    }
   ],
   "source": [
    "serp_df_temp"
   ]
  },
  {
   "cell_type": "markdown",
   "id": "b8bb5e16-8834-464a-9a4b-3f5905431269",
   "metadata": {},
   "source": [
    "**Ideas for Improvement**:\n",
    "\n",
    "* Use GPT4\n",
    "* Scrape the website and use the HTML content for better results."
   ]
  },
  {
   "cell_type": "markdown",
   "id": "ff86e5ef-7897-4fc5-8cd4-2ab35ed5a284",
   "metadata": {},
   "source": [
    "## Microsite Analysis"
   ]
  },
  {
   "cell_type": "markdown",
   "id": "fd052bbb-46b4-4fa5-ade4-7be47b8e3519",
   "metadata": {},
   "source": [
    "### Generative AI Use-case 5: Analyzing Microsites for Competitor Analysis\n",
    "\n",
    "\n"
   ]
  },
  {
   "cell_type": "code",
   "execution_count": null,
   "id": "badc4050-6e49-4521-bd98-e67007b3cf68",
   "metadata": {},
   "outputs": [],
   "source": [
    "microsites = [\n",
    "    \"https://gundrymd.com/health-goal/weight/\",\n",
    "    \"https://gundrymd.com/health-goal/energy/\",\n",
    "    \"https://gundrymd.com/health-goal/digestion-and-gut-health/\",\n",
    "    \"https://gundrymd.com/health-goal/immune-support/\",\n",
    "    \"https://gundrymd.com/health-goal/heart-health/\",\n",
    "    \"https://gundrymd.com/health-goal/mens-health/\",\n",
    "    \"https://gundrymd.com/health-goal/womens-health/\",\n",
    "    \"https://gundrymd.com/health-goal/muscles-joints/\",\n",
    "    \"https://gundrymd.com/health-goal/brain-vision/\",\n",
    "    \"https://gundrymd.com/health-goal/polyphenol-support/\",\n",
    "    \"https://gundrymd.com/health-goal/lectin-free-diet-food/\",\n",
    "    \"https://gundrymd.com/health-goal/hair-skin-nails/\",\n",
    "    \"https://gundrymd.com/shop/supplements/\",\n",
    "    \"https://gundrymd.com/shop/lectin-free-food/\",\n",
    "    \"https://gundrymd.com/shop/skincare/\",\n",
    "    \"https://gundrymd.com/product-category/accessories/\",\n",
    "    \"https://gundrymd.com/p/magazine/\",\n",
    "    \"https://gundrymd.com/ingredients/antioxidants/\",\n",
    "    \"https://gundrymd.com/ingredients/coq10/\",\n",
    "    \"https://gundrymd.com/ingredients/glucosamine/\",\n",
    "    \"https://gundrymd.com/ingredients/greens-algae/\",\n",
    "    \"https://gundrymd.com/ingredients/mct/\"\n",
    "]\n"
   ]
  },
  {
   "cell_type": "markdown",
   "id": "ba05b410-f962-4b11-a409-e558bb01e397",
   "metadata": {},
   "source": [
    "Didn't get to complete this one! But the idea is the same as above, get the keywords associated with these microsites, then get SERP results for these keywords and perform analysis on them (sentiment analysis, categorization, abtract themes, etc)."
   ]
  },
  {
   "cell_type": "markdown",
   "id": "d575f797-a291-44be-ad30-737755d45032",
   "metadata": {},
   "source": [
    "## Affiliate Marketing\n",
    "***\n"
   ]
  },
  {
   "cell_type": "markdown",
   "id": "df18ca99-c993-4fcc-8eff-34284dc56e17",
   "metadata": {},
   "source": [
    "### Generative AI Use-case 6: Content Creation and Optimization\n",
    "\n",
    "\n",
    "* Use GPT to generate SEO-optimized content for blogs, FAQs, and landing pages that target high-volume keywords.\n",
    "* Ensure the content matches user intent and includes calls-to-action (can use GPT to validate with a special prompt).\n",
    "* Can feed the model past articles/content, and tell it to mimic its writing style/prose when generating new content."
   ]
  },
  {
   "cell_type": "markdown",
   "id": "f7263bb5-38e3-4685-9299-72e6e0e80f96",
   "metadata": {},
   "source": [
    "## Other Ideas\n",
    "***\n",
    "\n"
   ]
  },
  {
   "cell_type": "markdown",
   "id": "f261ada4-1f73-411f-98b7-1d931e0df9e3",
   "metadata": {},
   "source": [
    "### Generative AI Use-case 7: Analyze Youtube Videos\n",
    "\n",
    "Videos are often embedded into websites. Generative AI can use the visual content and script of the video (can be obtained by transcribing voice to text) to catagorize, perform sentiment analysis, and identify attributes."
   ]
  },
  {
   "cell_type": "markdown",
   "id": "fba572c5-3a6f-4882-a2e0-4fff2469f209",
   "metadata": {},
   "source": [
    "### Generative AI Use-case 8: Analyze Website Carousel\n",
    "\n",
    "Carousels are often found on websites. Generative AI can use the visual content and text of the carousel to catagorize, perform sentiment analysis, and identify attributes."
   ]
  },
  {
   "cell_type": "markdown",
   "id": "fd23e24d-7141-47ad-a671-cdf5e59c302b",
   "metadata": {},
   "source": [
    "### Generative AI Use-case 9: Assist in A/B Testing\n",
    "\n",
    "A/B testing, also known as split testing, is a method where two versions of a web page or content piece (A and B) are compared to determine which one performs better in terms of a predefined metric, such as click-through rate, conversion rate, or engagement levels.\n",
    "\n",
    "Generative AI can:\n",
    "\n",
    "1. **Personalization**: By analyzing data on user preferences and behaviors, generative AI can create personalized content variations for A/B testing. This means developing content that resonates more closely with different segments of Gundry MD’s audience, potentially leading to higher engagement and conversion rates\n",
    "2. **Predictive Analysis**: Generative AI can predict the outcome of A/B tests by analyzing past performance data and identifying patterns. This predictive capability can help Golden Hippo make informed decisions about which variations to test and prioritize, speeding up the optimization process and reducing the resources spent on less promising options.\n",
    "3. **Automated Testing and Optimization**: Generative AI can automate the process of setting up, running, and analyzing A/B tests. This includes selecting the most relevant KPIs (Key Performance Indicators) for each test, distributing traffic among different test variations, and providing insights on performance."
   ]
  },
  {
   "cell_type": "markdown",
   "id": "ea88f96a-f7e2-400e-86b2-6ecf006a32fe",
   "metadata": {},
   "source": [
    "### Generative AI Use-case 9: Analyze Images on Websites\n",
    "\n",
    "Incorporating Generative AI for analyzing images on websites can significantly enhance SEO strategies by automating the optimization of images for search engines. By categorizing images and identifying their content and sentiment, AI can generate descriptive, keyword-rich alt texts and file names, making the images more discoverable to search engines. This process not only helps in accurately indexing the images but also improves the overall user experience by ensuring relevant images appear in search results, thereby increasing website visibility and traffic."
   ]
  },
  {
   "cell_type": "markdown",
   "id": "e31b4e1e-3cab-49eb-9505-367966c9761b",
   "metadata": {},
   "source": [
    "## Final Thoughts + HCI\n",
    "\n",
    "I can't think of more use-case right now for generative AI + SEO, but that's because I am not an expert in SEO. By brainstorming with SEO experts, I can figure out the needs of the employees and customers at Golden Hippo, and develop custom generative AI solutions for each of them.\n",
    "\n",
    "I took a course titled \"Human-Computer Interaction\" (HCI) at Georgia Tech, where I learned about the **full design-lifecycle**, which essentially can be boiled down into these steps:\n",
    "\n",
    "1. **User Research and Needfinding**\n",
    "\n",
    "    a. Methods\n",
    "   \n",
    "    b. Data Inventory/User Types\n",
    "   \n",
    "2. **Design Alternatives**\n",
    "\n",
    "    a. Brainstorming (individual and group)\n",
    "   \n",
    "    b. Personas\n",
    "   \n",
    "    c. User Profiles\n",
    "   \n",
    "    d. Timelines\n",
    "   \n",
    "    e. Scenarios/Storyboards\n",
    "   \n",
    "    f. User Modeling\n",
    "   \n",
    "3. **Prototyping**\n",
    "\n",
    "    a. Low fidelity\n",
    "   \n",
    "    b. High fidelity\n",
    "4. **User Evaluation**\n",
    "\n",
    "    a. Qualitative evaluation\n",
    "\n",
    "    b. Empirical evaluation\n",
    "   \n",
    "    c. Predictive evaluation\n",
    "\n",
    "Before introducing AI technologies into Golden Hippo’s workflow, it is important to understand the specific needs, challenges, and opportunities within the company through user research. Only then can we begin brainstorming design alternatives,\n",
    "prototype, and evaluate our prototypes. By leveraging the design lifecycle above, we can ensure that the AI solutions we build are closely aligned with Golden Hippo’s operational goals and user needs, leading to more effective and efficient marketing strategies, improved customer experiences, and enhanced business outcomes through targeted innovation and optimization.\n",
    "\n"
   ]
  },
  {
   "cell_type": "code",
   "execution_count": null,
   "id": "2fbc2761-e924-49e3-9e0f-554310c44247",
   "metadata": {},
   "outputs": [],
   "source": []
  }
 ],
 "metadata": {
  "kernelspec": {
   "display_name": "Python 3 (ipykernel)",
   "language": "python",
   "name": "python3"
  },
  "language_info": {
   "codemirror_mode": {
    "name": "ipython",
    "version": 3
   },
   "file_extension": ".py",
   "mimetype": "text/x-python",
   "name": "python",
   "nbconvert_exporter": "python",
   "pygments_lexer": "ipython3",
   "version": "3.11.5"
  }
 },
 "nbformat": 4,
 "nbformat_minor": 5
}
